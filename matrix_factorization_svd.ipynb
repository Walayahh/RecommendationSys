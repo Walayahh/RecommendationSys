{
 "cells": [
  {
   "cell_type": "markdown",
   "id": "ab0c328b-1bc4-4ddb-8b94-18dcbce88d71",
   "metadata": {},
   "source": [
    "<center>\n",
    "    <a href=\"https://www.aus.edu/\"><img src=\"https://i.imgur.com/pdZvnSD.png\" width=200> </a>    \n",
    "</center>\n",
    "<h1 align=center><font size = 5>CMP 49412 - Personalized Recommendations</font>\n",
    "<h1 align=center><font size = 5>Matrix Factorization - Singular Value Decomposition (SVD)</font>\n",
    "<h1 align=center><font size = 5>Prepared by Alex Aklson, Ph.D.</font>\n",
    "<h1 align=center><font size = 5>March 12, 2025</font>"
   ]
  },
  {
   "cell_type": "markdown",
   "id": "078efca6-e1cf-404a-a450-d164b7739bb0",
   "metadata": {},
   "source": [
    "   "
   ]
  },
  {
   "cell_type": "markdown",
   "id": "77564758-a629-4ba9-8cef-0162467d9e14",
   "metadata": {},
   "source": [
    "    "
   ]
  },
  {
   "cell_type": "markdown",
   "id": "f27ab10e-7342-425f-9727-272e85c423fa",
   "metadata": {},
   "source": [
    "Import Libraries."
   ]
  },
  {
   "cell_type": "code",
   "execution_count": null,
   "id": "5e4ca4da-4d96-455d-bb49-841600a589a6",
   "metadata": {},
   "outputs": [],
   "source": [
    "import numpy as np\n",
    "import pandas as pd\n",
    "import matplotlib.pyplot as plt\n",
    "\n",
    "from scipy.sparse.linalg import svds"
   ]
  },
  {
   "cell_type": "markdown",
   "id": "93206d4e-8ed2-4cd1-ae71-04f2dd4a8497",
   "metadata": {},
   "source": [
    "#### Read in Data and Explore it"
   ]
  },
  {
   "cell_type": "markdown",
   "id": "9d8ce3b1-e18c-4dc8-8ea8-4f55faf8bc33",
   "metadata": {},
   "source": [
    "Read in the data."
   ]
  },
  {
   "cell_type": "code",
   "execution_count": null,
   "id": "7ada9aa9-524f-4583-bab4-3d126a1ad285",
   "metadata": {},
   "outputs": [],
   "source": [
    "rating_df = pd.read_csv('movie_ratings_data.csv')"
   ]
  },
  {
   "cell_type": "markdown",
   "id": "1bf0e3d7-614b-444f-b532-b862f2e77bb2",
   "metadata": {},
   "source": [
    "Quick Exploration of the data."
   ]
  },
  {
   "cell_type": "code",
   "execution_count": null,
   "id": "e7b2a08e-54b0-4ad9-a43b-3d108fb938cb",
   "metadata": {},
   "outputs": [],
   "source": [
    "rating_df.head()"
   ]
  },
  {
   "cell_type": "code",
   "execution_count": null,
   "id": "ca784134-1b17-44b4-b2c4-99e31546beda",
   "metadata": {},
   "outputs": [],
   "source": [
    "rating_df.shape"
   ]
  },
  {
   "cell_type": "code",
   "execution_count": null,
   "id": "cf32041e-186c-4f8f-8aa8-3240316c6d52",
   "metadata": {},
   "outputs": [],
   "source": [
    "rating_df['user_id'].nunique()"
   ]
  },
  {
   "cell_type": "code",
   "execution_count": null,
   "id": "a17a9c13-c991-42a0-b9b8-9e814396d988",
   "metadata": {},
   "outputs": [],
   "source": [
    "rating_df['movie_title'].nunique()"
   ]
  },
  {
   "cell_type": "markdown",
   "id": "527895a1-1655-49fd-9a04-3b28a2956927",
   "metadata": {},
   "source": [
    "Let's create the user-item matrix."
   ]
  },
  {
   "cell_type": "code",
   "execution_count": null,
   "id": "7c514187-d159-4035-8849-faaa6b2106a0",
   "metadata": {},
   "outputs": [],
   "source": [
    "user_item_matrix = rating_df.pivot_table(index='user_id', columns='movie_title', values='rating')"
   ]
  },
  {
   "cell_type": "code",
   "execution_count": null,
   "id": "92e8ca2a-f22b-4ffd-9587-9ab898351f7d",
   "metadata": {},
   "outputs": [],
   "source": [
    "user_item_matrix"
   ]
  },
  {
   "cell_type": "markdown",
   "id": "9de54a69-39a8-4a24-bd0f-e571a440253a",
   "metadata": {},
   "source": [
    "#### Calculate the Sparsity"
   ]
  },
  {
   "cell_type": "code",
   "execution_count": null,
   "id": "da765acf-220f-44bc-a0cd-10d05eaf544c",
   "metadata": {},
   "outputs": [],
   "source": [
    "sparsity_count = user_item_matrix.isnull().values.sum()"
   ]
  },
  {
   "cell_type": "code",
   "execution_count": null,
   "id": "57a4b71d-8b8c-4614-9c8c-0364dcad7ac0",
   "metadata": {},
   "outputs": [],
   "source": [
    "print(sparsity_count)"
   ]
  },
  {
   "cell_type": "code",
   "execution_count": null,
   "id": "c2d489bb-5f39-4ec2-8ca3-bca1807fcc3f",
   "metadata": {},
   "outputs": [],
   "source": [
    "full_count = user_item_matrix.size"
   ]
  },
  {
   "cell_type": "code",
   "execution_count": null,
   "id": "d4828150-2422-4847-b5e0-7de5f89cf595",
   "metadata": {},
   "outputs": [],
   "source": [
    "print(full_count)"
   ]
  },
  {
   "cell_type": "code",
   "execution_count": null,
   "id": "7dacac50-fde4-4625-90cb-10e401b7dfe5",
   "metadata": {},
   "outputs": [],
   "source": [
    "sparsity = sparsity_count / full_count\n",
    "print(sparsity)"
   ]
  },
  {
   "cell_type": "markdown",
   "id": "f4a8cd07-3614-47ff-852e-d3a8996e8410",
   "metadata": {},
   "source": [
    "Count the occupied cells per column."
   ]
  },
  {
   "cell_type": "code",
   "execution_count": null,
   "id": "77800fcb-829e-4d9f-9789-ca418326d5d0",
   "metadata": {},
   "outputs": [],
   "source": [
    "occupied_count = user_item_matrix.notnull().sum()\n",
    "print(occupied_count)"
   ]
  },
  {
   "cell_type": "markdown",
   "id": "2106eabc-2704-468b-88b6-127d8dbcebe7",
   "metadata": {},
   "source": [
    "Sort the resulting series from low to high."
   ]
  },
  {
   "cell_type": "code",
   "execution_count": null,
   "id": "6b29bde6-3dcc-43ec-a8d5-1a1fcdb338b8",
   "metadata": {},
   "outputs": [],
   "source": [
    "sorted_occupied_count = occupied_count.sort_values()\n",
    "print(sorted_occupied_count)"
   ]
  },
  {
   "cell_type": "markdown",
   "id": "0cd6f1e5-11ce-423d-88a3-4a0943ea458b",
   "metadata": {},
   "source": [
    "Plot a histogram of the values in sorted_occupied_count"
   ]
  },
  {
   "cell_type": "code",
   "execution_count": null,
   "id": "d49fb903-1199-4307-b25f-290210d8c81a",
   "metadata": {},
   "outputs": [],
   "source": [
    "plt.hist(sorted_occupied_count, edgecolor='k')\n",
    "plt.show()"
   ]
  },
  {
   "cell_type": "markdown",
   "id": "35732799-bdd3-423a-a1df-2ab0b53e8d35",
   "metadata": {},
   "source": [
    "Get the average rating for each user. "
   ]
  },
  {
   "cell_type": "code",
   "execution_count": null,
   "id": "f2c7c984-357a-46ad-aa86-6325b744c2ea",
   "metadata": {},
   "outputs": [],
   "source": [
    "avg_ratings = user_item_matrix.mean(axis=1)"
   ]
  },
  {
   "cell_type": "code",
   "execution_count": null,
   "id": "758c3d90-bc00-490c-b5c6-22ed23eba6d2",
   "metadata": {},
   "outputs": [],
   "source": [
    "avg_ratings"
   ]
  },
  {
   "cell_type": "markdown",
   "id": "8137d480-cb08-409c-ae51-87edfb2f2b91",
   "metadata": {},
   "source": [
    "Center each user's ratings around 0."
   ]
  },
  {
   "cell_type": "code",
   "execution_count": null,
   "id": "f461fdd9-2c65-4ce5-90be-662c5ee44dd9",
   "metadata": {},
   "outputs": [],
   "source": [
    "user_ratings_centered = user_item_matrix.sub(avg_ratings, axis=0)"
   ]
  },
  {
   "cell_type": "markdown",
   "id": "af0e6f5a-3a6a-4821-b55c-458127756689",
   "metadata": {},
   "source": [
    "Fill in all missing values with 0s."
   ]
  },
  {
   "cell_type": "code",
   "execution_count": null,
   "id": "e59a7368-19f3-434e-a80a-22bc789873b9",
   "metadata": {},
   "outputs": [],
   "source": [
    "user_ratings_centered.fillna(0, inplace=True)"
   ]
  },
  {
   "cell_type": "code",
   "execution_count": null,
   "id": "1d3a8c76-ab35-4e31-a239-931f32b3c74b",
   "metadata": {},
   "outputs": [],
   "source": [
    "user_ratings_centered.head()"
   ]
  },
  {
   "cell_type": "markdown",
   "id": "e2131b9a-4d86-4d26-a40e-959d9fc0a88a",
   "metadata": {},
   "source": [
    "Print the mean of each row."
   ]
  },
  {
   "cell_type": "code",
   "execution_count": null,
   "id": "ed967777-67a7-41af-ba9f-94d74be6949d",
   "metadata": {},
   "outputs": [],
   "source": [
    "print(user_ratings_centered.mean(axis=1))"
   ]
  },
  {
   "cell_type": "markdown",
   "id": "0c1f8f24-01f7-4eb0-8cbc-b4899b697b83",
   "metadata": {},
   "source": [
    "Decompose the matrix using SVD."
   ]
  },
  {
   "cell_type": "code",
   "execution_count": null,
   "id": "171a25de-d42e-4386-bcf6-42f4866b91d4",
   "metadata": {},
   "outputs": [],
   "source": [
    "U, Sigma, Vt = svds(user_ratings_centered.to_numpy(), k=50)"
   ]
  },
  {
   "cell_type": "code",
   "execution_count": null,
   "id": "4d91d1c2-eb83-4f18-a3fd-ac98a289de11",
   "metadata": {},
   "outputs": [],
   "source": [
    "Sigma = np.diag(Sigma[::-1])\n",
    "print(Sigma)"
   ]
  },
  {
   "cell_type": "code",
   "execution_count": null,
   "id": "1ca35069-9ff5-4d2e-9ac0-749520ffa3f3",
   "metadata": {},
   "outputs": [],
   "source": [
    "Sigma.shape"
   ]
  },
  {
   "cell_type": "markdown",
   "id": "6b3ec83d-a95d-4620-81ea-d33fd14f156d",
   "metadata": {},
   "source": [
    "Reconstruct the user-item matrix."
   ]
  },
  {
   "cell_type": "code",
   "execution_count": null,
   "id": "3b424016-9654-478f-a67a-d0be9bd4cbbe",
   "metadata": {},
   "outputs": [],
   "source": [
    "U_Sigma = np.dot(U[:, ::-1], Sigma)"
   ]
  },
  {
   "cell_type": "markdown",
   "id": "c4557b18-f9a5-4b25-99b2-2f49a6ce36a6",
   "metadata": {},
   "source": [
    "Dot product of result and Vt"
   ]
  },
  {
   "cell_type": "code",
   "execution_count": null,
   "id": "52e3228d-31cc-4300-978a-0bb27bb9358a",
   "metadata": {},
   "outputs": [],
   "source": [
    "U_Sigma_Vt = np.dot(U_Sigma, Vt[::-1, :])"
   ]
  },
  {
   "cell_type": "code",
   "execution_count": null,
   "id": "db27a4bb-f286-47bc-9259-00f98bdd247c",
   "metadata": {},
   "outputs": [],
   "source": [
    "print(U_Sigma_Vt)"
   ]
  },
  {
   "cell_type": "markdown",
   "id": "c08c01aa-19be-4212-bf32-3aa38f7420f0",
   "metadata": {},
   "source": [
    "Add the mean back to the reconstructed matrix."
   ]
  },
  {
   "cell_type": "code",
   "execution_count": null,
   "id": "a87b0e53-a5fa-4735-abf2-e0b9829e9d0b",
   "metadata": {},
   "outputs": [],
   "source": [
    "uncentered_ratings = U_Sigma_Vt + avg_ratings.values.reshape(-1, 1)"
   ]
  },
  {
   "cell_type": "markdown",
   "id": "9ca3ace9-a495-43b8-b710-634171435fbd",
   "metadata": {},
   "source": [
    "Convert the reconstructed matrix into a DataFrame."
   ]
  },
  {
   "cell_type": "code",
   "execution_count": null,
   "id": "2e1479eb-33d5-4948-9f35-e22da0f82736",
   "metadata": {},
   "outputs": [],
   "source": [
    "calc_pred_ratings_df = pd.DataFrame(np.round(uncentered_ratings, 1), \n",
    "                                    index=user_item_matrix.index,\n",
    "                                    columns=user_item_matrix.columns\n",
    "                                   )"
   ]
  },
  {
   "cell_type": "code",
   "execution_count": null,
   "id": "818dbbcc-7da6-4656-864b-f8d4c369b5cb",
   "metadata": {},
   "outputs": [],
   "source": [
    "print(calc_pred_ratings_df.head())"
   ]
  },
  {
   "cell_type": "code",
   "execution_count": null,
   "id": "ee02d798-5f53-4575-a3f6-079bd6d9acc9",
   "metadata": {},
   "outputs": [],
   "source": [
    "print(user_item_matrix.head())"
   ]
  },
  {
   "cell_type": "markdown",
   "id": "576f20ec-1f7b-42ac-a777-386912568837",
   "metadata": {},
   "source": [
    "    "
   ]
  },
  {
   "cell_type": "markdown",
   "id": "4a328f13-f945-4437-82d1-04eb2e384e6d",
   "metadata": {},
   "source": [
    "Recommend to the fifth user 5 movies."
   ]
  },
  {
   "cell_type": "code",
   "execution_count": null,
   "id": "cfc434b4-ecc3-43f7-b8f9-efcc008d765c",
   "metadata": {},
   "outputs": [],
   "source": [
    "user_5_ratings = calc_pred_ratings_df.iloc[4,:].sort_values(ascending=False)\n",
    "\n",
    "print(user_5_ratings[:5])"
   ]
  },
  {
   "cell_type": "markdown",
   "id": "94120db5-45cd-4226-a543-1d4f375d5d44",
   "metadata": {},
   "source": [
    "### Exercise"
   ]
  },
  {
   "cell_type": "markdown",
   "id": "640262a9-46bd-4c0e-a25d-beb2ff4a1589",
   "metadata": {},
   "source": [
    "Load `rating_exercise.csv` and use matrix factorization - SVD to predict the missing ratings. Use the predicted labels to recommend 5 movies to **User5**."
   ]
  },
  {
   "cell_type": "code",
   "execution_count": null,
   "id": "321a9ad4-f5af-4f2e-85cc-10418f809f49",
   "metadata": {},
   "outputs": [],
   "source": []
  }
 ],
 "metadata": {
  "kernelspec": {
   "display_name": "Python 3 (ipykernel)",
   "language": "python",
   "name": "python3"
  },
  "language_info": {
   "codemirror_mode": {
    "name": "ipython",
    "version": 3
   },
   "file_extension": ".py",
   "mimetype": "text/x-python",
   "name": "python",
   "nbconvert_exporter": "python",
   "pygments_lexer": "ipython3",
   "version": "3.12.5"
  }
 },
 "nbformat": 4,
 "nbformat_minor": 5
}
